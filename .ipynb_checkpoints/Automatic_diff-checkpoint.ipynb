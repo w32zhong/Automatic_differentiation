{
 "cells": [
  {
   "cell_type": "markdown",
   "metadata": {},
   "source": [
    "# AUTOMATIC DIFFERENTIATION"
   ]
  },
  {
   "cell_type": "markdown",
   "metadata": {},
   "source": [
    "# Type of differentiation\n",
    "\n",
    "There is 3 methods of computing the derivative of a fonction evaluate at a specific point :\n",
    "- Symbolic\n",
    "- Numérical\n",
    "- Automactic Differentiation (AD)\n",
    "\n",
    "## Symbolic differentiation\n",
    "\n",
    "It's the same as we do when computing manually the derivative of a function to get it's value at a specific point. We take the input expression and apply rules of differientiation : $ \\big( \\frac{df(x)}{dx} \\times \\frac{dg(x)}{dx} \\big)\\big|_{x=a} = \\big( \\frac{df(x)}{dx} \\times g(x) + \\frac{dg(x)}{dx} \\times f(x) \\big)\\big|_{x=a}$, $ \\frac{d\\sin(x)}{dx}|_{x=a} = \\cos(x)|_{x=a} $"
   ]
  },
  {
   "cell_type": "markdown",
   "metadata": {},
   "source": [
    "\n"
   ]
  },
  {
   "cell_type": "code",
   "execution_count": null,
   "metadata": {},
   "outputs": [],
   "source": []
  }
 ],
 "metadata": {
  "kernelspec": {
   "display_name": "Python 3",
   "language": "python",
   "name": "python3"
  },
  "language_info": {
   "codemirror_mode": {
    "name": "ipython",
    "version": 3
   },
   "file_extension": ".py",
   "mimetype": "text/x-python",
   "name": "python",
   "nbconvert_exporter": "python",
   "pygments_lexer": "ipython3",
   "version": "3.8.5"
  }
 },
 "nbformat": 4,
 "nbformat_minor": 4
}
